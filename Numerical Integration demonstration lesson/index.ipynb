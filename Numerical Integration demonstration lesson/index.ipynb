{
 "cells": [
  {
   "cell_type": "markdown",
   "metadata": {
    "slideshow": {
     "slide_type": "slide"
    }
   },
   "source": [
    "## Introduction to Numerical Computation\n",
    "\n",
    "<img align=\"right\" width=\"30%\" src=\"images/Example_of_2D_mesh.png\"> \n",
    "\n",
    "<br>\n",
    "\n",
    "### Gauss quadrature\n",
    "\n",
    "<br>\n",
    "\n",
    "\n",
    "### Yerlan Amanbek\n",
    "\n",
    "<b> yerlan@utexas.edu </b>\n",
    "\n",
    "\n",
    "<table style=\"border-style: hidden;\">\n",
    "<tr>\n",
    "<td style=\"border-left: none\"><img src=\"images/ices-logo-2017.png\" width=\"350\"></td>\n",
    "</tr>\n",
    "\n",
    "</table>\n"
   ]
  },
  {
   "cell_type": "markdown",
   "metadata": {
    "slideshow": {
     "slide_type": "slide"
    }
   },
   "source": [
    "# Motivation\n",
    "  Obtain a good approximate value of this integral $\\int_a^b f(x)$\n",
    " <!--* $f(x)$ are polynomials of higher order  -->\n",
    " \n",
    "# Agenda\n",
    "\n",
    " * Revisit numerical integration methods\n",
    " * Gauss quadrature rule(optimal for polynomials)\n",
    " \n",
    "\n",
    "\n",
    "## Set-up\n",
    "\n",
    "The notebook relies on Python code. To initialize the notebook, select **Cell->Run All Below**\n",
    " \n",
    "<!-- * The efficacy of this approach will be judged by the\n",
    "considering the size of the class of polynomials for which\n",
    "this approximation formula gives exact results.\n",
    " * With 2n values to be determined, we should expect the\n",
    "upper limit of the precision of this method to be 2n-1.\n",
    " * In other words, this method should be exact for\n",
    "polynomials of degree 2n - 1 or less. -->\n",
    " "
   ]
  },
  {
   "cell_type": "markdown",
   "metadata": {
    "slideshow": {
     "slide_type": "slide"
    }
   },
   "source": [
    "## Introduction\n",
    "\n",
    "<!--- In general, case a mapping between elements and reference(master) elements is used to simplify the integration domain. -->\n",
    "<img align=\"right\" width=\"30%\" src=\"images/integration_function.png\"> \n",
    "\n",
    "We consider the problem of numerically evaluating definite integrals\n",
    "\n",
    "$$   \\int_{a}^b f(x)\\,dx $$\n",
    "\n",
    "where \n",
    "  * $f(x)$ is the integrand and polynomial\n",
    "  * $a$ - lower limit of integration\n",
    "  * $b$ - upper limit of integration\n",
    "\n",
    "The integral can be viewed graphically as the area between the $x$-axis and the curve $y = f (x)$ in the region of the limits of integration. \n",
    "\n",
    "<!--- The Newton formulas discussed so far have used equally spaced nodes in the interval $[a, b]$ of the form $x_j = a+jh$  for  $j \\in \\mathbb{Z}$,\n",
    "where \n",
    "$$ h=\\frac{b-a}{n} $$ \n",
    "for given $n \\in \\mathbb{N}$ -->\n"
   ]
  },
  {
   "cell_type": "markdown",
   "metadata": {
    "slideshow": {
     "slide_type": "slide"
    }
   },
   "source": [
    "## Introduction\n",
    "\n",
    "<!--- In general, case a mapping between elements and reference(master) elements is used to simplify the integration domain. -->\n",
    "\n",
    "Numerical quadtrature formulas had the general form\n",
    "\n",
    "$$   \\int_{a}^b f(x)\\,dx \\approx \\sum_{i=1}^n w_i f(x_i)$$\n",
    "\n",
    "\n",
    "\n",
    "<!--- The Newton formulas discussed so far have used equally spaced nodes in the interval $[a, b]$ of the form $x_j = a+jh$  for  $j \\in \\mathbb{Z}$,\n",
    "where \n",
    "$$ h=\\frac{b-a}{n} $$ \n",
    "for given $n \\in \\mathbb{N}$ -->\n"
   ]
  },
  {
   "cell_type": "markdown",
   "metadata": {
    "slideshow": {
     "slide_type": "fragment"
    }
   },
   "source": [
    "<img align=\"right\" width=\"30%\" src=\"images/rectangle_numerical_approximation.svg\"> \n",
    "\n",
    "We can interpret numerical integration as an approximation of that area.\n",
    "\n",
    "Rectangle rule:    $w_{i}=\\Delta x$\n",
    "\n",
    "Note. The constants $w_i$ are arbitrary, but $x_i \\in [a,b]$ for $i=1,..n$. There are $2n$ values to be selected.\n",
    "\n",
    "<!--- The Newton formulas discussed so far have used equally spaced nodes in the interval $[a, b]$ of the form $x_j = a+jh$  for  $j \\in \\mathbb{Z}$,\n",
    "where \n",
    "$$ h=\\frac{b-a}{n} $$ \n",
    "for given $n \\in \\mathbb{N}$ -->\n"
   ]
  },
  {
   "cell_type": "code",
   "execution_count": 1,
   "metadata": {
    "slideshow": {
     "slide_type": "skip"
    }
   },
   "outputs": [],
   "source": [
    "from ipywidgets import interact, fixed, IntSlider, FloatSlider, Text, Dropdown\n",
    "%matplotlib inline\n",
    "import areaTools as AT\n",
    "import ipywidgets as widgets"
   ]
  },
  {
   "cell_type": "code",
   "execution_count": 2,
   "metadata": {
    "slideshow": {
     "slide_type": "skip"
    }
   },
   "outputs": [
    {
     "data": {
      "application/javascript": [
       "IPython.OutputArea.prototype._should_scroll = function(lines) {\n",
       "    return false;\n",
       "}"
      ],
      "text/plain": [
       "<IPython.core.display.Javascript object>"
      ]
     },
     "metadata": {},
     "output_type": "display_data"
    }
   ],
   "source": [
    "%%javascript\n",
    "IPython.OutputArea.prototype._should_scroll = function(lines) {\n",
    "    return false;\n",
    "}"
   ]
  },
  {
   "cell_type": "code",
   "execution_count": 3,
   "metadata": {
    "slideshow": {
     "slide_type": "slide"
    }
   },
   "outputs": [
    {
     "data": {
      "application/vnd.jupyter.widget-view+json": {
       "model_id": "29b6cb99130f434ebaaa82035a90acf7",
       "version_major": 2,
       "version_minor": 0
      },
      "text/html": [
       "<p>Failed to display Jupyter Widget of type <code>interactive</code>.</p>\n",
       "<p>\n",
       "  If you're reading this message in the Jupyter Notebook or JupyterLab Notebook, it may mean\n",
       "  that the widgets JavaScript is still loading. If this message persists, it\n",
       "  likely means that the widgets JavaScript library is either not installed or\n",
       "  not enabled. See the <a href=\"https://ipywidgets.readthedocs.io/en/stable/user_install.html\">Jupyter\n",
       "  Widgets Documentation</a> for setup instructions.\n",
       "</p>\n",
       "<p>\n",
       "  If you're reading this message in another frontend (for example, a static\n",
       "  rendering on GitHub or <a href=\"https://nbviewer.jupyter.org/\">NBViewer</a>),\n",
       "  it may mean that your frontend doesn't currently support widgets.\n",
       "</p>\n"
      ],
      "text/plain": [
       "interactive(children=(Text(value='-3*x**2+2*x+6', description='$f(x)=$'), Text(value='-1.0', description='a'), Text(value='1.0', description='b'), IntSlider(value=2, description='$n_{start}$', max=20, min=2, step=2), Dropdown(description='Method:', options=('left', 'right', 'midpoint', 'trapezoid', 'simpson'), value='left'), Output()), _dom_classes=('widget-interact',))"
      ]
     },
     "metadata": {},
     "output_type": "display_data"
    }
   ],
   "source": [
    "## Do not change the text in this box\n",
    "f_box = Text(value=\"-3*x**2+2*x+6\", description=r'$f(x)=$')\n",
    "n_slider = widgets.IntSlider(min=2,max=20, step=2, value=2, description=r'$n_{start}$')\n",
    "method_type = Dropdown(options=['left', 'right', 'midpoint','trapezoid','simpson'],\n",
    "                        value='left', description='Method:')\n",
    "interact(AT.plot3Areas,f=f_box,a=\"-1.0\",b=\"1.0\",n=n_slider,method=method_type);\n",
    "#3*x**2+2*x+6 "
   ]
  },
  {
   "cell_type": "markdown",
   "metadata": {
    "slideshow": {
     "slide_type": "slide"
    }
   },
   "source": [
    "# Gauss integration\n",
    "\n",
    "How can we choose the integration points and weights to exactly integrate a polynomial of degree $2n-1$?\n",
    "\n",
    "<table style=\"border-style: hidden;\">\n",
    "<tr>\n",
    "<td style=\"border-left: none\"><img src=\"images/gaussian_quadrature_threepoints.png\" width=\"90%\"></td>  \n",
    "</tr>\n",
    "</table>\n",
    "\n",
    "\n",
    "\n",
    "\n",
    "<!-- If polynomials of order $2n-1$ are to be integrated exactly, initially, since $2n$ coefficients are necessary to define the polynomial, there should be  arbitrary nodes and weights. If, on the other hand, the nodes can be fixed beforehand, it is possible to do better. -->"
   ]
  },
  {
   "cell_type": "markdown",
   "metadata": {
    "slideshow": {
     "slide_type": "fragment"
    }
   },
   "source": [
    "## We can approximate exactly if we choose special $n$ integration points. "
   ]
  },
  {
   "cell_type": "markdown",
   "metadata": {
    "slideshow": {
     "slide_type": "slide"
    }
   },
   "source": [
    "# Example: \n",
    "\n",
    "<img align=\"right\" width=\"30%\" src=\"images/gaussian_quadrature.png\"> \n",
    "\n",
    "Let $[a, b] = [-1, 1]$ and $n=2$\n",
    "\n",
    "We want to choose $x_1, x_2, w_1$ and $w_2$ so that we may integrate a polynomial of degree ($2n-1=4-1=3$) exactly?\n",
    "\n",
    "$$     \\int_{-1}^1 f(x)\\,dx = w_1 f(x_1) + w_2 f(x_2)$$\n",
    "\n",
    "The approximation should be exact for any polynomial of degree 3 or less."
   ]
  },
  {
   "cell_type": "markdown",
   "metadata": {
    "slideshow": {
     "slide_type": "slide"
    }
   },
   "source": [
    "Applying Gaussian Quadrature to each remaining integral\n",
    "yields:\n",
    "\n",
    " $$\\int_{-1}^1 1\\,dx = 2 = w_1f(x_1) + w_2f(x_2)=w_1 + w_2$$"
   ]
  },
  {
   "cell_type": "markdown",
   "metadata": {
    "slideshow": {
     "slide_type": "fragment"
    }
   },
   "source": [
    " \n",
    " $$\\int_{-1}^1 x \\,dx = 0 = w_1f(x_1) + w_2f(x_2)= w_1 x_1 +w_2 x_2$$\n"
   ]
  },
  {
   "cell_type": "markdown",
   "metadata": {
    "slideshow": {
     "slide_type": "fragment"
    }
   },
   "source": [
    "$$\\int_{-1}^1 x^2\\,dx = \\frac{2}{3} = w_1 x_1^2+w_2x_2^2$$\n"
   ]
  },
  {
   "cell_type": "markdown",
   "metadata": {
    "slideshow": {
     "slide_type": "fragment"
    }
   },
   "source": [
    " $$ \\int_{-1}^1 x^3\\,dx = 0 =  w_1x_1^3 +w_2 x_2^3$$\n",
    " We must solve this system of 4 nonlinear equations in 4 unknowns."
   ]
  },
  {
   "cell_type": "markdown",
   "metadata": {
    "slideshow": {
     "slide_type": "subslide"
    }
   },
   "source": [
    " $w_1 + w_2 = 2$ \n",
    " \n",
    " $w_1 x_1 +w_2 x_2 = 0$   we obtain $w_1 = \\frac{2x_2}{x_2-x_1}$ and $w_2 = \\frac{2x_1}{x_1-x_2}$\n",
    " \n",
    " Using these values for $3^{rd}$ equation $x_1 x_2 =-\\frac{1}{3}$ and $4^{th}$ equation $x_1 = -x_2$.\n"
   ]
  },
  {
   "cell_type": "markdown",
   "metadata": {
    "slideshow": {
     "slide_type": "subslide"
    }
   },
   "source": [
    "Let  $f(x) = a_0 + a_1x+a_2x^2+a_3x^3$\n",
    "\n",
    "then\n",
    "\n",
    "$\\int_{-1}^1 f(x)\\,dx = a_0\\int_{-1}^1 1\\,dx+a_1\\int_{-1}^1 x\\,dx+a_2\\int_{-1}^1 x^2\\,dx+a_3\\int_{-1}^1 x^3\\,dx$\n",
    "\n",
    "Each of the definite integrals on the right-hand side has an\n",
    "integrand of degree 3 or less. Gaussian Quadrature should be\n",
    "exact for each of these."
   ]
  },
  {
   "cell_type": "markdown",
   "metadata": {
    "slideshow": {
     "slide_type": "slide"
    }
   },
   "source": [
    "Solving the nonlinear system gives us\n",
    "<center>\n",
    "$w_1 =1$, $w_2=1$, $x_1 = - \\frac{1}{\\sqrt 3}$, $x_2 =  \\frac{1}{\\sqrt 3}$\n",
    "</center>\n",
    "Therefore,\n",
    "\n",
    "$$\\int_{-1}^1 f(x)\\,dx = f \\left( - \\frac{1}{\\sqrt 3}\\right)+ f \\left( \\frac{1}{\\sqrt 3}\\right)$$\n",
    "\n",
    "* Only two evaluations of $f(x)$ is required.\n",
    "* Scheme is accurate for polynomials of degree at most 3 \n",
    "\n",
    "<img align=\"center\" width=\"50%\" src=\"images/gaussian_quadrature_twopoints.png\"> "
   ]
  },
  {
   "cell_type": "markdown",
   "metadata": {
    "slideshow": {
     "slide_type": "slide"
    }
   },
   "source": [
    "# Example\n",
    "\n",
    "$\\int_{-1}^1 \\left( x^3+x^2 \\right)\\,dx$ = $\\frac{x^4}{4} \\bigg\\rvert_{-1}^{1} +\\frac{x^3}{3} \\bigg\\rvert_{-1}^{1} =\\frac{2}{3}$\n",
    "\n",
    "Rectangle rule :\n",
    "\n",
    "$\\int_{-1}^1 \\left( x^3+x^2  \\right)\\,dx \\approx f \\left( -1\\right)+ f \\left( 1\\right)$\n",
    "\n",
    "Gauss quadrature:\n",
    "\n",
    "$\\int_{-1}^1 \\left( x^3+x^2 \\right)\\,dx = f \\left( - \\frac{1}{\\sqrt 3}\\right)+ f \\left(\\frac{1}{\\sqrt 3}\\right)$\n"
   ]
  },
  {
   "cell_type": "code",
   "execution_count": 4,
   "metadata": {
    "slideshow": {
     "slide_type": "slide"
    }
   },
   "outputs": [],
   "source": [
    "from scipy.integrate import quad\n",
    "from numpy import sqrt, sin, cos, pi\n",
    "\n",
    "# function we want to integrate\n",
    "def f(x):\n",
    "    return x**3 + x**2 #+cos(x)"
   ]
  },
  {
   "cell_type": "code",
   "execution_count": 5,
   "metadata": {
    "slideshow": {
     "slide_type": "fragment"
    }
   },
   "outputs": [
    {
     "name": "stdout",
     "output_type": "stream",
     "text": [
      "Analytical computation of integral       is 0.6666666667\n",
      "Trapezoidal rule computation of integral is 2.0000000000 and error is 1.3333333333\n"
     ]
    }
   ],
   "source": [
    "I_actual =2/3 #+2*sin(1) #computed integral\n",
    "\n",
    "print(\"Analytical computation of integral       is %1.10f\" % I_actual)\n",
    "\n",
    "#Rectangle rule for integral computation\n",
    "I_trapezoidal = f(-1)+f(1)\n",
    "error_trapezoidal = abs(I_actual - I_trapezoidal)                   \n",
    "print(\"Trapezoidal rule computation of integral is %1.10f and error is %1.10f\" % (I_trapezoidal, error_trapezoidal))"
   ]
  },
  {
   "cell_type": "code",
   "execution_count": 6,
   "metadata": {
    "slideshow": {
     "slide_type": "fragment"
    }
   },
   "outputs": [
    {
     "name": "stdout",
     "output_type": "stream",
     "text": [
      "Analytical computation of integral       is 0.6666666667\n",
      "Gauss quadrature computation of integral is 0.6666666667 and error is 0.0000000000\n"
     ]
    }
   ],
   "source": [
    "#Gauss quadrature rule for integral computation\n",
    "I_Gauss_Quadrature = f(-sqrt(3)/3)+f(sqrt(3)/3)\n",
    "error_gauss = abs(I_actual - I_Gauss_Quadrature)\n",
    "print(\"Analytical computation of integral       is %1.10f\" % I_actual)\n",
    "print(\"Gauss quadrature computation of integral is %1.10f and error is %1.10f\" % (I_Gauss_Quadrature, error_gauss) )"
   ]
  },
  {
   "cell_type": "markdown",
   "metadata": {
    "slideshow": {
     "slide_type": "slide"
    }
   },
   "source": [
    "# Gauss Quadrature rule\n",
    "\n",
    "<table style=\"border-style: hidden;\">\n",
    "<tr>\n",
    "<td style=\"border-left: none\"><img src=\"images/Gauss_intergration_points.png\" width=\"70%\"></td>\n",
    "</tr>\n",
    "</table>"
   ]
  },
  {
   "cell_type": "markdown",
   "metadata": {
    "slideshow": {
     "slide_type": "slide"
    }
   },
   "source": [
    "# Gauss Quadrature rule\n",
    "\n",
    "$$     \\int_{-1}^1 f(x)\\,dx \\approx \\sum_{i=1}^n w_i f(x_i)$$\n",
    "\n",
    "<table style=\"border-style: hidden;\">\n",
    "<tr>\n",
    "<td style=\"border-left: none\"><img src=\"images/gaussian_quadrature_points_weights.png\" width=\"90%\"></td>\n",
    "</tr>\n",
    "</table>\n",
    "Reference:\n",
    "  * Stoer, Josef; Bulirsch, Roland (2002), Introduction to Numerical Analysis (3rd ed.), Springer, ISBN 978-0-387-95452-3\n",
    "  * Abramowitz, M., & Stegun, I. A. (1964). Handbook of mathematical functions: with formulas, graphs, and mathematical tables (Vol. 55). Courier Corporation."
   ]
  },
  {
   "cell_type": "markdown",
   "metadata": {
    "slideshow": {
     "slide_type": "slide"
    }
   },
   "source": [
    "# Gauss quadrature on arbitrary intervals\n",
    "\n",
    "Use substition or transformation to transform $\\int_{a}^b f(x)\\,dx $ into an integral defined over [-1, 1]\n",
    "\n",
    "Let $x = \\frac{1}{2}(a+b)+\\frac{1}{2}(b-a)t$, with $t \\in [-1, 1]$\n",
    "Then\n",
    "\n",
    "$$ \\int_{a}^b f(x)\\,dx = \\int_{-1}^1 f\\left(\\frac{1}{2}(a+b)+\\frac{1}{2}(b-a)t \\right) \\frac{b-a}{2}\\,dt$$\n",
    "\n",
    "<!-- ### Remark\n",
    " * Using $n$ quadrature points, a polynomial $f(x)$ of degree $(2n – 1)$ or less will be integrated exactly. \n",
    " * If computational efforts being equal,Gaussian integration yields the most accurate results.\n",
    " * Uses unequal non-uniform spacing -->\n",
    "\n",
    "<!--Suppose $I_n(f)$ is the Gaussian quadrature rule, i.e. $I_n(f) : =\\sum_{i=1}^n w_i f(x_i)$\n",
    "\n",
    "where the element nodes $\\{x_j\\}_{j=0}^{n}$ are $n+1$ roots of a degree $(n+1)$ orthogonal polynomial on $[a, b]$ with weight function $w$, and $w_j=\\int_a^b l_j(x)w(x)dx$.\n",
    "\n",
    "Then\n",
    "$$I_n(f)=\\int_a^b f(x)w(x)dx$$\n",
    "\n",
    "for all ponynomials $f$ of degree  $2n+1$. -->\n",
    "\n"
   ]
  },
  {
   "cell_type": "markdown",
   "metadata": {
    "slideshow": {
     "slide_type": "slide"
    }
   },
   "source": [
    "## Summary\n",
    "\n",
    "\n",
    "* Gauss quadrature rule:\n",
    "\n",
    "    * using $n$ quadrature points, a polynomial $f(x)$ of degree $(2n – 1)$ or less will be integrated exactly. \n",
    "    * Compared to rectangle rule\n",
    "* Numerical experiments\n",
    "    \n",
    "    \n",
    "<!-- * When the same number of nodes is used, the algebraic degree of precision of the Gaussian quadrature is higher than that of the Newton-Cotes quadrature. -->"
   ]
  }
 ],
 "metadata": {
  "celltoolbar": "Slideshow",
  "hide_input": false,
  "kernelspec": {
   "display_name": "Python 3",
   "language": "python",
   "name": "python3"
  },
  "language_info": {
   "codemirror_mode": {
    "name": "ipython",
    "version": 3
   },
   "file_extension": ".py",
   "mimetype": "text/x-python",
   "name": "python",
   "nbconvert_exporter": "python",
   "pygments_lexer": "ipython3",
   "version": "3.6.4"
  },
  "latex_envs": {
   "bibliofile": "biblio.bib",
   "cite_by": "apalike",
   "current_citInitial": 1,
   "eqLabelWithNumbers": true,
   "eqNumInitial": 0
  },
  "widgets": {
   "state": {
    "1b3daa5cb0f74da2af0026e9a691e0e7": {
     "views": [
      {
       "cell_index": 5
      }
     ]
    },
    "5f4b3e0459ea412badb45d0047c5d5d2": {
     "views": [
      {
       "cell_index": 10
      }
     ]
    },
    "8378fa2e45064858b4daebd9f0387e08": {
     "views": [
      {
       "cell_index": 7
      }
     ]
    }
   },
   "version": "1.2.0"
  }
 },
 "nbformat": 4,
 "nbformat_minor": 1
}
