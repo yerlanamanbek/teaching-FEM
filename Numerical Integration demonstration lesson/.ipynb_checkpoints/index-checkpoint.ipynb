{
 "cells": [
  {
   "cell_type": "markdown",
   "metadata": {
    "slideshow": {
     "slide_type": "slide"
    }
   },
   "source": [
    "## Introduction to Finite Element Methods\n",
    "\n",
    "<br>\n",
    "\n",
    "### Gauss quadrature rules\n",
    "\n",
    "<br>\n",
    "\n",
    "### Yerlan Amanbek\n",
    "\n",
    "<b> yerlan@utexas.edu </b>\n",
    "\n",
    "\n",
    "<table style=\"border-style: hidden;\">\n",
    "<tr>\n",
    "<td style=\"border-left: none\"><img src=\"images/ices-logo-2017.png\" width=\"350\"></td>\n",
    "</tr>\n",
    "</table>\n"
   ]
  },
  {
   "cell_type": "markdown",
   "metadata": {
    "slideshow": {
     "slide_type": "slide"
    }
   },
   "source": [
    "# Objective\n",
    "\n",
    " * Revisit numerical intergration methods\n",
    " * Gauss integration(optimal)\n",
    " \n",
    "\n",
    "\n",
    "## Set-up\n",
    "\n",
    "The notebook relies on Python code. To initialize the notebook, select **Cell->Run All Below**\n",
    " \n",
    "<!-- * The efficacy of this approach will be judged by the\n",
    "considering the size of the class of polynomials for which\n",
    "this approximation formula gives exact results.\n",
    " * With 2n values to be determined, we should expect the\n",
    "upper limit of the precision of this method to be 2n-1.\n",
    " * In other words, this method should be exact for\n",
    "polynomials of degree 2n - 1 or less. -->\n",
    " "
   ]
  },
  {
   "cell_type": "markdown",
   "metadata": {
    "slideshow": {
     "slide_type": "slide"
    }
   },
   "source": [
    "## Introduction\n",
    "\n",
    "In general, case a mapping between elements and reference(master) elements is used to simplify the integration domain.\n",
    "\n",
    "We need to compute the definite integral a lot in the FEM computations.\n",
    "\n",
    "$$    I :=  \\int_{a}^b f(x)\\,dx$$\n",
    "\n",
    "The integral can be viewed graphically as the area between the x-axis and the curve y = f (x) in the region of the limits of integration. Thus, we can interpret numerical integration as an approximation of that area.\n",
    "\n",
    "\n",
    "\n",
    "<!--- The Newton formulas discussed so far have used equally spaced nodes in the interval $[a, b]$ of the form $x_j = a+jh$  for  $j \\in \\mathbb{Z}$,\n",
    "where \n",
    "$$ h=\\frac{b-a}{n} $$ \n",
    "for given $n \\in \\mathbb{N}$ -->\n"
   ]
  },
  {
   "cell_type": "code",
   "execution_count": 1,
   "metadata": {
    "slideshow": {
     "slide_type": "skip"
    }
   },
   "outputs": [],
   "source": [
    "from ipywidgets import interact, fixed, IntSlider, FloatSlider, Text, Dropdown\n",
    "%matplotlib inline\n",
    "import areaTools as AT\n",
    "import ipywidgets as widgets"
   ]
  },
  {
   "cell_type": "code",
   "execution_count": 2,
   "metadata": {
    "slideshow": {
     "slide_type": "skip"
    }
   },
   "outputs": [
    {
     "data": {
      "application/javascript": [
       "IPython.OutputArea.prototype._should_scroll = function(lines) {\n",
       "    return false;\n",
       "}"
      ],
      "text/plain": [
       "<IPython.core.display.Javascript object>"
      ]
     },
     "metadata": {},
     "output_type": "display_data"
    }
   ],
   "source": [
    "%%javascript\n",
    "IPython.OutputArea.prototype._should_scroll = function(lines) {\n",
    "    return false;\n",
    "}"
   ]
  },
  {
   "cell_type": "code",
   "execution_count": 3,
   "metadata": {
    "slideshow": {
     "slide_type": "slide"
    }
   },
   "outputs": [
    {
     "data": {
      "application/vnd.jupyter.widget-view+json": {
       "model_id": "34adc5d5431c4a8f867ab7c24db4730d",
       "version_major": 2,
       "version_minor": 0
      },
      "text/html": [
       "<p>Failed to display Jupyter Widget of type <code>interactive</code>.</p>\n",
       "<p>\n",
       "  If you're reading this message in the Jupyter Notebook or JupyterLab Notebook, it may mean\n",
       "  that the widgets JavaScript is still loading. If this message persists, it\n",
       "  likely means that the widgets JavaScript library is either not installed or\n",
       "  not enabled. See the <a href=\"https://ipywidgets.readthedocs.io/en/stable/user_install.html\">Jupyter\n",
       "  Widgets Documentation</a> for setup instructions.\n",
       "</p>\n",
       "<p>\n",
       "  If you're reading this message in another frontend (for example, a static\n",
       "  rendering on GitHub or <a href=\"https://nbviewer.jupyter.org/\">NBViewer</a>),\n",
       "  it may mean that your frontend doesn't currently support widgets.\n",
       "</p>\n"
      ],
      "text/plain": [
       "interactive(children=(Text(value='exp(-x**2)', description='$f(x)=$'), Text(value='-1.0', description='a'), Text(value='1.0', description='b'), IntSlider(value=4, description='$n_{start}$', max=20, min=2, step=2), Dropdown(description='Method:', options=('left', 'right', 'midpoint', 'trapezoid', 'simpson'), value='left'), Output()), _dom_classes=('widget-interact',))"
      ]
     },
     "metadata": {},
     "output_type": "display_data"
    }
   ],
   "source": [
    "## Do not change the text in this box\n",
    "f_box = Text(value=\"exp(-x**2)\", description=r'$f(x)=$')\n",
    "n_slider = widgets.IntSlider(min=2,max=20, step=2, value=4, description=r'$n_{start}$')\n",
    "method_type = Dropdown(options=['left', 'right', 'midpoint','trapezoid','simpson'],\n",
    "                        value='left', description='Method:')\n",
    "interact(AT.plot3Areas,f=f_box,a=\"-1.0\",b=\"1.0\",n=n_slider,method=method_type);"
   ]
  },
  {
   "cell_type": "markdown",
   "metadata": {
    "slideshow": {
     "slide_type": "subslide"
    }
   },
   "source": [
    "Some quick explanations of how the notebook works:\n",
    "\n",
    "**The meaning of the variables are as follows:**\n",
    "- \"a\": the left endpoint of the integration interval\n",
    "- \"b\": the right endpoint of the integration interval\n",
    "- \"n\" the number of sub-intervals to use for approximating the integral\n",
    "- \"f(x)\": the function to integrate.\n",
    "\n",
    "**How to define the function:**\n",
    "- x\\*\\*p means $x^p$. For example, x\\*\\*0.5 means $\\sqrt x$\n",
    "- for a constant function $f(x) = c$ use $c*(x**0)$ (every function definition needs an x in it!)\n",
    "- for $e^p$ use exp(p) (so for $e$ use exp(1))\n",
    "- for $\\pi$ use pi\n",
    "- type trig functions the way you would on your calculator(sin(x), cos(x), etc)\n",
    "\n",
    "**Some functions you might want to try:**\n",
    "- 4-x\\*\\*2\n",
    "- cos(x)\n",
    "- sin(x\\*\\*2)\n",
    "- exp(x\\*\\*2)\n",
    "- exp(-x\\*\\*2/2)/sqrt(2.\\*pi) (this is the famous \"normal curve\")\n",
    "- exp(x)/x (make sure that 0 is not part of your interval!)\n"
   ]
  },
  {
   "cell_type": "markdown",
   "metadata": {
    "slideshow": {
     "slide_type": "slide"
    }
   },
   "source": [
    "$$     \\int_{a}^b f(x)\\,dx \\approx \\sum_{i=1}^n w_i f(x_i)$$\n",
    "\n",
    "The trapezoidal rule of numerical integration simply\n",
    "approximates the area by the sum of several equally spaced trapezoids under the curve between the limits of a and b. \n",
    "\n",
    "<table style=\"border-style: hidden;\">\n",
    "<tr>\n",
    "<td style=\"border-left: none\"><img src=\"images/integration_trapezoidal.png\" width=\"250\"></td>\n",
    "</tr>\n",
    "</table>\n",
    "\n",
    "The height of a trapezoid is found from the integrand, $y_j = y ( x_j )$, evaluated at equally spaced points, $x_j$ and $x_{j+1}$. Thus, a typical contribution is $Area = h\\frac{ y_j + y_{j+1}}{2}$, where $h = x_{j+1} − x_j $ is the spacing. Thus, for $n$ points (and\n",
    "$n − 1$ spaces), the well-known approximation is\n",
    "$$ I \\approx h \\left( \\frac{1}{2} y_1+y_2+y_3+ ...+y_{n-1}+ \\frac{1}{2} y_n \\right)$$\n",
    "where $w_j = h$, except $w_1 = w_n = \\frac{h}{2}$.\n",
    "\n",
    "\n"
   ]
  },
  {
   "cell_type": "code",
   "execution_count": 4,
   "metadata": {
    "slideshow": {
     "slide_type": "slide"
    }
   },
   "outputs": [
    {
     "data": {
      "application/vnd.jupyter.widget-view+json": {
       "model_id": "ec718dff1a6b45db94a0780b53e81681",
       "version_major": 2,
       "version_minor": 0
      },
      "text/html": [
       "<p>Failed to display Jupyter Widget of type <code>interactive</code>.</p>\n",
       "<p>\n",
       "  If you're reading this message in the Jupyter Notebook or JupyterLab Notebook, it may mean\n",
       "  that the widgets JavaScript is still loading. If this message persists, it\n",
       "  likely means that the widgets JavaScript library is either not installed or\n",
       "  not enabled. See the <a href=\"https://ipywidgets.readthedocs.io/en/stable/user_install.html\">Jupyter\n",
       "  Widgets Documentation</a> for setup instructions.\n",
       "</p>\n",
       "<p>\n",
       "  If you're reading this message in another frontend (for example, a static\n",
       "  rendering on GitHub or <a href=\"https://nbviewer.jupyter.org/\">NBViewer</a>),\n",
       "  it may mean that your frontend doesn't currently support widgets.\n",
       "</p>\n"
      ],
      "text/plain": [
       "interactive(children=(Text(value='exp(-x**2)', description='$f(x)=$'), Text(value='-1.0', description='a'), Text(value='1.0', description='b'), IntSlider(value=2, description='$n_{start}$', max=20, min=1, step=2), Dropdown(description='Method:', options=('trapezoid',), value='trapezoid'), Output()), _dom_classes=('widget-interact',))"
      ]
     },
     "metadata": {},
     "output_type": "display_data"
    }
   ],
   "source": [
    "## Do not change the text in this box\n",
    "# -3*x**2+2*x+6\n",
    "f_box = Text(value=\"exp(-x**2)\", description=r'$f(x)=$')\n",
    "n_slider = widgets.IntSlider(min=1,max=20, step=2, value=2, description=r'$n_{start}$')\n",
    "method_type = Dropdown(options=['trapezoid'],\n",
    "                        value='trapezoid', description='Method:')\n",
    "interact(AT.plot3Areas,f=f_box,a=\"-1.0\",b=\"1.0\",n=n_slider,method=method_type);"
   ]
  },
  {
   "cell_type": "markdown",
   "metadata": {
    "slideshow": {
     "slide_type": "slide"
    }
   },
   "source": [
    "# Gauss integration\n",
    "\n",
    "The famous mathematician Gauss posed this question: \n",
    "\n",
    "* What is the minimum number of points, $n$, required to exactly integrate a polynomial?\n",
    "\n",
    "* What are the corresponding function values and weights?\n",
    "\n",
    "<table style=\"border-style: hidden;\">\n",
    "<tr>\n",
    "<td style=\"border-left: none\"><img src=\"images/trapezoidalrule.png\" width=\"250\"></td>\n",
    "<td style=\"border-left: none\"><img src=\"images/gaussian_quadrature.png\" width=\"250\"></td>  \n",
    "    \n",
    "</tr>\n",
    "</table>\n"
   ]
  },
  {
   "cell_type": "markdown",
   "metadata": {
    "slideshow": {
     "slide_type": "slide"
    }
   },
   "source": [
    "# Example: \n",
    "\n",
    "Let $[a, b] = [-1, 1]$ and $n=2$\n",
    "\n",
    "We want to choose $x_1, x_2, w_1$ and $w_2$ so that\n",
    "\n",
    "$$     \\int_{-1}^1 f(x)\\,dx \\approx w_1 f(x_1) + w_2 f(x_2)$$\n",
    "\n",
    "The approximation should be exact for any polynomial of degree 3 or less."
   ]
  },
  {
   "cell_type": "markdown",
   "metadata": {
    "slideshow": {
     "slide_type": "slide"
    }
   },
   "source": [
    "Let  $f(x) = a_0 + a_1x+a_2x^2+a_3x^3$\n",
    "\n",
    "then\n",
    "\n",
    "$\\int_{-1}^1 f(x)\\,dx = a_0\\int_{-1}^1 1\\,dx+a_1\\int_{-1}^1 x\\,dx+a_2\\int_{-1}^1 x^2\\,dx+a_3\\int_{-1}^1 x^3\\,dx$\n",
    "\n",
    "Each of the definite integrals on the right-hand side has an\n",
    "integrand of degree 3 or less. Gaussian Quadrature should be\n",
    "exact for each of these.\n"
   ]
  },
  {
   "cell_type": "markdown",
   "metadata": {
    "slideshow": {
     "slide_type": "slide"
    }
   },
   "source": [
    "Applying Gaussian Quadrature to each remaining integral\n",
    "yields:\n",
    "\n",
    " $$\\int_{-1}^1 1\\,dx = 2 = w_1 + w_2$$\n",
    " \n",
    " $$\\int_{-1}^1 x \\,dx = 0 = w_1 x_1 +w_2 x_2$$\n",
    " \n",
    "  \n",
    " $$\\int_{-1}^1 x^2\\,dx = \\frac{2}{3} = w_1 x_1^2+w_2x_2^2$$\n",
    " \n",
    " $$ \\int_{-1}^1 x^3\\,dx = 0 =w_1x_1^3 +w_2 x_2^3$$"
   ]
  },
  {
   "cell_type": "markdown",
   "metadata": {
    "slideshow": {
     "slide_type": "subslide"
    }
   },
   "source": [
    " $w_1 + w_2 = 2$ \n",
    " \n",
    " $w_1 x_1 +w_2 x_2 = 0$   we obtain $w_1 = \\frac{2x_2}{x_2-x_1}$ and $w_2 = \\frac{2x_1}{x_1-x_2}$\n",
    " \n",
    " Using these values for $3^{rd}$ equation $x_1 x_2 =-\\frac{1}{3}$ and $4^{th}$ equation $x_1 = -x_2$.\n"
   ]
  },
  {
   "cell_type": "markdown",
   "metadata": {
    "slideshow": {
     "slide_type": "slide"
    }
   },
   "source": [
    "Solving the nonlinear system gives us\n",
    "<center>\n",
    "$w_1 =1$, $w_2=1$, $x_1 = - \\frac{\\sqrt 3}{3}$, $x_2 =  \\frac{\\sqrt 3}{3}$\n",
    "</center>\n",
    "Therefore,\n",
    "\n",
    "$$\\int_{-1}^1 f(x)\\,dx \\approx f \\left( \\frac{-\\sqrt 3}{3}\\right)+ f \\left( \\frac{\\sqrt 3}{3}\\right)$$\n",
    "\n",
    "Above Gauss quadrature integral has degree of precision 3. Trapezoidal rule has degree of precision 1."
   ]
  },
  {
   "cell_type": "markdown",
   "metadata": {
    "slideshow": {
     "slide_type": "fragment"
    }
   },
   "source": [
    "|    Number of points, $n$    |                         Weights, $w_i$                                   |                                    Points, $x_i$                                   |\n",
    "|:------------------------:|:-------------------------------------------------------------------:|:-----------------------------------------------------------------------------------------:|\n",
    "|    1         |    $2$                                              |    $0$  \n",
    "|    2         |    $1$                                              |    $\\pm \\frac{1}{\\sqrt 3}$                                              |\n",
    "|    3         |    $0$                         |    $\\frac{8}{9}$                        |\n",
    "|              |    $\\pm \\sqrt \\frac{3}{5}$          |    $\\frac{5}{9}$                        |\n",
    "|    4         |    $\\frac{18+\\sqrt{30}}{36}$    |    $\\pm \\sqrt {\\frac{3}{7} -\\frac{2}{7} \\sqrt{\\frac{6}{5}}}$    |\n",
    "|              |    $\\frac{18-\\sqrt{30}}{36}$    |    $\\pm \\sqrt {\\frac{3}{7} +\\frac{2}{7} \\sqrt{\\frac{6}{5}}}$    |"
   ]
  },
  {
   "cell_type": "markdown",
   "metadata": {
    "slideshow": {
     "slide_type": "slide"
    }
   },
   "source": [
    "# Example\n",
    "\n",
    "$\\int_{-1}^1 \\left( x^2+\\cos{x} \\right)\\,dx$ = $\\frac{x^3}{3} \\bigg\\rvert_{-1}^{1} +\\sin{x}\\bigg\\rvert_{-1}^{1} =\\frac{2}{3}+2\\sin(1)$\n",
    "\n",
    "Trapezoidal rule :\n",
    "\n",
    "$\\int_{-1}^1 \\left( x^2+\\cos{x} \\right)\\,dx \\approx \\frac{2}{2}\\left( f \\left( -1\\right)+ f \\left( 1\\right)\\right)$\n",
    "\n",
    "Gauss quadrature:\n",
    "$\\int_{-1}^1 \\left( x^2+\\cos{x} \\right)\\,dx \\approx f \\left( \\frac{-\\sqrt 3}{3}\\right)+ f \\left( \\frac{\\sqrt 3}{3}\\right)$\n"
   ]
  },
  {
   "cell_type": "code",
   "execution_count": 22,
   "metadata": {
    "slideshow": {
     "slide_type": "slide"
    }
   },
   "outputs": [],
   "source": [
    "from scipy.integrate import quad\n",
    "from numpy import sqrt, sin, cos, pi\n",
    "\n",
    "def f(x):\n",
    "    return x**2 + cos(x) #integrant"
   ]
  },
  {
   "cell_type": "code",
   "execution_count": 23,
   "metadata": {
    "slideshow": {
     "slide_type": "fragment"
    }
   },
   "outputs": [
    {
     "name": "stdout",
     "output_type": "stream",
     "text": [
      "Analytical computation of integral       is 2.3496086363\n",
      "Trapezoidal rule computation of integral is 3.0806046117 and error is 0.7309959755\n"
     ]
    }
   ],
   "source": [
    "I_actual =2/3 + 2*sin(1) #computed integral\n",
    "\n",
    "print(\"Analytical computation of integral       is %1.10f\" % I_actual)\n",
    "\n",
    "#Trapezoidal rule for integral computation\n",
    "h=2\n",
    "I_trapezoidal = h*(f(-1)+f(1))/2\n",
    "error_trapezoidal = abs(I_actual - I_trapezoidal)                   \n",
    "print(\"Trapezoidal rule computation of integral is %1.10f and error is %1.10f\" % (I_trapezoidal, error_trapezoidal))"
   ]
  },
  {
   "cell_type": "code",
   "execution_count": 24,
   "metadata": {
    "slideshow": {
     "slide_type": "fragment"
    }
   },
   "outputs": [
    {
     "name": "stdout",
     "output_type": "stream",
     "text": [
      "Analytical computation of integral       is 2.3496086363\n",
      "Gauss quadrature computation of integral is 2.3424903221 and error is 0.0071183142\n"
     ]
    }
   ],
   "source": [
    "#Gauss quadrature rule for integral computation\n",
    "I_Gauss_Quadrature = f(-sqrt(3)/3)+f(sqrt(3)/3)\n",
    "error_gauss = abs(I_actual - I_Gauss_Quadrature)\n",
    "print(\"Analytical computation of integral       is %1.10f\" % I_actual)\n",
    "print(\"Gauss quadrature computation of integral is %1.10f and error is %1.10f\" % (I_Gauss_Quadrature, error_gauss) )"
   ]
  },
  {
   "cell_type": "markdown",
   "metadata": {
    "slideshow": {
     "slide_type": "slide"
    }
   },
   "source": [
    "# Gauss quadrature on arbitrary intervals\n",
    "\n",
    "Use substition or transformation to transform $\\int_{a}^b f(x)\\,dx $ into an integral defined over [-1, 1]\n",
    "\n",
    "Let $x = \\frac{1}{2}(a+b)+\\frac{1}{2}(b-a)t$, with $t \\in [-1, 1]$\n",
    "Then\n",
    "\n",
    "$$ \\int_{a}^b f(x)\\,dx = \\int_{-1}^1 f\\left(\\frac{1}{2}(a+b)+\\frac{1}{2}(b-a)t \\right) \\frac{b-a}{2}\\,dt$$\n"
   ]
  },
  {
   "cell_type": "markdown",
   "metadata": {
    "slideshow": {
     "slide_type": "slide"
    }
   },
   "source": [
    "## Summary\n",
    "\n",
    "* Numerical experiements\n",
    "* Gauss quadrature concepts:\n",
    "\n",
    "    * using $n$ quadrature points, a polynomial P(x) of degree (2n – 1) or less will be integrated exactly. \n",
    "    * Compared to trapezoidal rule\n",
    "    \n",
    "<!-- * When the same number of nodes is used, the algebraic degree of precision of the Gaussian quadrature is higher than that of the Newton-Cotes quadrature. -->"
   ]
  },
  {
   "cell_type": "code",
   "execution_count": null,
   "metadata": {},
   "outputs": [],
   "source": []
  }
 ],
 "metadata": {
  "celltoolbar": "Slideshow",
  "hide_input": false,
  "kernelspec": {
   "display_name": "Python 3",
   "language": "python",
   "name": "python3"
  },
  "language_info": {
   "codemirror_mode": {
    "name": "ipython",
    "version": 3
   },
   "file_extension": ".py",
   "mimetype": "text/x-python",
   "name": "python",
   "nbconvert_exporter": "python",
   "pygments_lexer": "ipython3",
   "version": "3.6.4"
  },
  "latex_envs": {
   "bibliofile": "biblio.bib",
   "cite_by": "apalike",
   "current_citInitial": 1,
   "eqLabelWithNumbers": true,
   "eqNumInitial": 0
  },
  "widgets": {
   "state": {
    "1b3daa5cb0f74da2af0026e9a691e0e7": {
     "views": [
      {
       "cell_index": 5
      }
     ]
    },
    "5f4b3e0459ea412badb45d0047c5d5d2": {
     "views": [
      {
       "cell_index": 10
      }
     ]
    },
    "8378fa2e45064858b4daebd9f0387e08": {
     "views": [
      {
       "cell_index": 7
      }
     ]
    }
   },
   "version": "1.2.0"
  }
 },
 "nbformat": 4,
 "nbformat_minor": 1
}
